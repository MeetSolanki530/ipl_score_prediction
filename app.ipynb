{
 "cells": [
  {
   "cell_type": "markdown",
   "metadata": {},
   "source": [
    "### Loading Libraries"
   ]
  },
  {
   "cell_type": "code",
   "execution_count": 1,
   "metadata": {},
   "outputs": [],
   "source": [
    "import pandas as pd\n",
    "import numpy as np\n",
    "import matplotlib.pyplot as plt\n",
    "import seaborn as sns\n",
    "from sklearn.preprocessing import LabelEncoder,MinMaxScaler\n",
    "from sklearn.model_selection import train_test_split\n",
    "from tensorflow.keras.models import Sequential\n",
    "from tensorflow.keras.layers import Dense\n",
    "from tensorflow.keras.losses import Huber\n",
    "import tensorflow as tf"
   ]
  },
  {
   "cell_type": "markdown",
   "metadata": {},
   "source": [
    "### Loading Dataset"
   ]
  },
  {
   "cell_type": "code",
   "execution_count": 2,
   "metadata": {},
   "outputs": [
    {
     "data": {
      "text/html": [
       "<div>\n",
       "<style scoped>\n",
       "    .dataframe tbody tr th:only-of-type {\n",
       "        vertical-align: middle;\n",
       "    }\n",
       "\n",
       "    .dataframe tbody tr th {\n",
       "        vertical-align: top;\n",
       "    }\n",
       "\n",
       "    .dataframe thead th {\n",
       "        text-align: right;\n",
       "    }\n",
       "</style>\n",
       "<table border=\"1\" class=\"dataframe\">\n",
       "  <thead>\n",
       "    <tr style=\"text-align: right;\">\n",
       "      <th></th>\n",
       "      <th>mid</th>\n",
       "      <th>date</th>\n",
       "      <th>venue</th>\n",
       "      <th>bat_team</th>\n",
       "      <th>bowl_team</th>\n",
       "      <th>batsman</th>\n",
       "      <th>bowler</th>\n",
       "      <th>runs</th>\n",
       "      <th>wickets</th>\n",
       "      <th>overs</th>\n",
       "      <th>runs_last_5</th>\n",
       "      <th>wickets_last_5</th>\n",
       "      <th>striker</th>\n",
       "      <th>non-striker</th>\n",
       "      <th>total</th>\n",
       "    </tr>\n",
       "  </thead>\n",
       "  <tbody>\n",
       "    <tr>\n",
       "      <th>0</th>\n",
       "      <td>1</td>\n",
       "      <td>2008-04-18</td>\n",
       "      <td>M Chinnaswamy Stadium</td>\n",
       "      <td>Kolkata Knight Riders</td>\n",
       "      <td>Royal Challengers Bangalore</td>\n",
       "      <td>SC Ganguly</td>\n",
       "      <td>P Kumar</td>\n",
       "      <td>1</td>\n",
       "      <td>0</td>\n",
       "      <td>0.1</td>\n",
       "      <td>1</td>\n",
       "      <td>0</td>\n",
       "      <td>0</td>\n",
       "      <td>0</td>\n",
       "      <td>222</td>\n",
       "    </tr>\n",
       "    <tr>\n",
       "      <th>1</th>\n",
       "      <td>1</td>\n",
       "      <td>2008-04-18</td>\n",
       "      <td>M Chinnaswamy Stadium</td>\n",
       "      <td>Kolkata Knight Riders</td>\n",
       "      <td>Royal Challengers Bangalore</td>\n",
       "      <td>BB McCullum</td>\n",
       "      <td>P Kumar</td>\n",
       "      <td>1</td>\n",
       "      <td>0</td>\n",
       "      <td>0.2</td>\n",
       "      <td>1</td>\n",
       "      <td>0</td>\n",
       "      <td>0</td>\n",
       "      <td>0</td>\n",
       "      <td>222</td>\n",
       "    </tr>\n",
       "    <tr>\n",
       "      <th>2</th>\n",
       "      <td>1</td>\n",
       "      <td>2008-04-18</td>\n",
       "      <td>M Chinnaswamy Stadium</td>\n",
       "      <td>Kolkata Knight Riders</td>\n",
       "      <td>Royal Challengers Bangalore</td>\n",
       "      <td>BB McCullum</td>\n",
       "      <td>P Kumar</td>\n",
       "      <td>2</td>\n",
       "      <td>0</td>\n",
       "      <td>0.2</td>\n",
       "      <td>2</td>\n",
       "      <td>0</td>\n",
       "      <td>0</td>\n",
       "      <td>0</td>\n",
       "      <td>222</td>\n",
       "    </tr>\n",
       "    <tr>\n",
       "      <th>3</th>\n",
       "      <td>1</td>\n",
       "      <td>2008-04-18</td>\n",
       "      <td>M Chinnaswamy Stadium</td>\n",
       "      <td>Kolkata Knight Riders</td>\n",
       "      <td>Royal Challengers Bangalore</td>\n",
       "      <td>BB McCullum</td>\n",
       "      <td>P Kumar</td>\n",
       "      <td>2</td>\n",
       "      <td>0</td>\n",
       "      <td>0.3</td>\n",
       "      <td>2</td>\n",
       "      <td>0</td>\n",
       "      <td>0</td>\n",
       "      <td>0</td>\n",
       "      <td>222</td>\n",
       "    </tr>\n",
       "    <tr>\n",
       "      <th>4</th>\n",
       "      <td>1</td>\n",
       "      <td>2008-04-18</td>\n",
       "      <td>M Chinnaswamy Stadium</td>\n",
       "      <td>Kolkata Knight Riders</td>\n",
       "      <td>Royal Challengers Bangalore</td>\n",
       "      <td>BB McCullum</td>\n",
       "      <td>P Kumar</td>\n",
       "      <td>2</td>\n",
       "      <td>0</td>\n",
       "      <td>0.4</td>\n",
       "      <td>2</td>\n",
       "      <td>0</td>\n",
       "      <td>0</td>\n",
       "      <td>0</td>\n",
       "      <td>222</td>\n",
       "    </tr>\n",
       "  </tbody>\n",
       "</table>\n",
       "</div>"
      ],
      "text/plain": [
       "   mid        date                  venue               bat_team  \\\n",
       "0    1  2008-04-18  M Chinnaswamy Stadium  Kolkata Knight Riders   \n",
       "1    1  2008-04-18  M Chinnaswamy Stadium  Kolkata Knight Riders   \n",
       "2    1  2008-04-18  M Chinnaswamy Stadium  Kolkata Knight Riders   \n",
       "3    1  2008-04-18  M Chinnaswamy Stadium  Kolkata Knight Riders   \n",
       "4    1  2008-04-18  M Chinnaswamy Stadium  Kolkata Knight Riders   \n",
       "\n",
       "                     bowl_team      batsman   bowler  runs  wickets  overs  \\\n",
       "0  Royal Challengers Bangalore   SC Ganguly  P Kumar     1        0    0.1   \n",
       "1  Royal Challengers Bangalore  BB McCullum  P Kumar     1        0    0.2   \n",
       "2  Royal Challengers Bangalore  BB McCullum  P Kumar     2        0    0.2   \n",
       "3  Royal Challengers Bangalore  BB McCullum  P Kumar     2        0    0.3   \n",
       "4  Royal Challengers Bangalore  BB McCullum  P Kumar     2        0    0.4   \n",
       "\n",
       "   runs_last_5  wickets_last_5  striker  non-striker  total  \n",
       "0            1               0        0            0    222  \n",
       "1            1               0        0            0    222  \n",
       "2            2               0        0            0    222  \n",
       "3            2               0        0            0    222  \n",
       "4            2               0        0            0    222  "
      ]
     },
     "execution_count": 2,
     "metadata": {},
     "output_type": "execute_result"
    }
   ],
   "source": [
    "ipl = pd.read_csv('ipl_data.csv')\n",
    "ipl.head()"
   ]
  },
  {
   "cell_type": "code",
   "execution_count": 31,
   "metadata": {},
   "outputs": [
    {
     "data": {
      "text/plain": [
       "mid               0\n",
       "date              0\n",
       "venue             0\n",
       "bat_team          0\n",
       "bowl_team         0\n",
       "batsman           0\n",
       "bowler            0\n",
       "runs              0\n",
       "wickets           0\n",
       "overs             0\n",
       "runs_last_5       0\n",
       "wickets_last_5    0\n",
       "striker           0\n",
       "non-striker       0\n",
       "total             0\n",
       "dtype: int64"
      ]
     },
     "execution_count": 31,
     "metadata": {},
     "output_type": "execute_result"
    }
   ],
   "source": [
    "ipl.isnull().sum()"
   ]
  },
  {
   "cell_type": "code",
   "execution_count": 3,
   "metadata": {},
   "outputs": [],
   "source": [
    "df = ipl.drop(['date','runs', 'wickets', 'overs', 'runs_last_5', 'wickets_last_5','mid', 'striker', 'non-striker'], axis =1)"
   ]
  },
  {
   "cell_type": "code",
   "execution_count": 4,
   "metadata": {},
   "outputs": [
    {
     "data": {
      "text/plain": [
       "Index(['venue', 'bat_team', 'bowl_team', 'batsman', 'bowler', 'total'], dtype='object')"
      ]
     },
     "execution_count": 4,
     "metadata": {},
     "output_type": "execute_result"
    }
   ],
   "source": [
    "df.columns"
   ]
  },
  {
   "cell_type": "code",
   "execution_count": 5,
   "metadata": {},
   "outputs": [],
   "source": [
    "X = df.drop(['total'], axis =1)\n",
    "y = df['total']"
   ]
  },
  {
   "cell_type": "code",
   "execution_count": 6,
   "metadata": {},
   "outputs": [],
   "source": [
    "# Create a LabelEncoder object for each categorical feature\n",
    "encoder = LabelEncoder()"
   ]
  },
  {
   "cell_type": "code",
   "execution_count": 7,
   "metadata": {},
   "outputs": [],
   "source": [
    "# Fit and transform the categorical features with label encoding\n",
    "X['venue'] = encoder.fit_transform(X['venue'])\n",
    "X['bat_team'] = encoder.fit_transform(X['bat_team'])\n",
    "X['bowl_team'] = encoder.fit_transform(X['bowl_team'])\n",
    "X['batsman'] = encoder.fit_transform(X['batsman'])\n",
    "X['bowler'] = encoder.fit_transform(X['bowler'])"
   ]
  },
  {
   "cell_type": "code",
   "execution_count": 8,
   "metadata": {},
   "outputs": [],
   "source": [
    "X_train, X_test, y_train, y_test = train_test_split(X, y, test_size=0.3, random_state=30,shuffle=True)\n"
   ]
  },
  {
   "cell_type": "code",
   "execution_count": 9,
   "metadata": {},
   "outputs": [],
   "source": [
    "scaler = MinMaxScaler()"
   ]
  },
  {
   "cell_type": "code",
   "execution_count": 10,
   "metadata": {},
   "outputs": [],
   "source": [
    "# Fit the scaler on the training data and transform both training and testing data\n",
    "X_train_scaled = scaler.fit_transform(X_train)\n",
    "X_test_scaled = scaler.transform(X_test)"
   ]
  },
  {
   "cell_type": "code",
   "execution_count": 40,
   "metadata": {},
   "outputs": [],
   "source": [
    "model = Sequential(\n",
    "    [\n",
    "    Dense(1024, activation='relu',input_shape = (X_train_scaled.shape[1],)),  # Hidden layer with 512 units and ReLU activation\n",
    "    Dense(1024, activation='relu'),  # Hidden layer with 216 units and ReLU activation\n",
    "    Dense(1, activation='linear')  # Output layer with linear activation for regression\n",
    "    ]\n",
    ")"
   ]
  },
  {
   "cell_type": "code",
   "execution_count": 41,
   "metadata": {},
   "outputs": [],
   "source": [
    "huber_loss = Huber(delta=1.0)"
   ]
  },
  {
   "cell_type": "code",
   "execution_count": 44,
   "metadata": {},
   "outputs": [],
   "source": [
    "model.compile(optimizer='adam', loss=huber_loss)  # Use Huber loss for regression"
   ]
  },
  {
   "cell_type": "code",
   "execution_count": null,
   "metadata": {},
   "outputs": [
    {
     "name": "stdout",
     "output_type": "stream",
     "text": [
      "Epoch 1/50\n",
      "5321/5321 [==============================] - 44s 8ms/step - loss: 13.9580 - val_loss: 13.5377\n",
      "Epoch 2/50\n",
      "5321/5321 [==============================] - 41s 8ms/step - loss: 13.8640 - val_loss: 13.7473\n",
      "Epoch 3/50\n",
      "5321/5321 [==============================] - 41s 8ms/step - loss: 13.7532 - val_loss: 13.5730\n",
      "Epoch 4/50\n",
      "5321/5321 [==============================] - 42s 8ms/step - loss: 13.6623 - val_loss: 13.4476\n",
      "Epoch 5/50\n",
      "5321/5321 [==============================] - 42s 8ms/step - loss: 13.5662 - val_loss: 13.2869\n",
      "Epoch 6/50\n",
      "5321/5321 [==============================] - 42s 8ms/step - loss: 13.4806 - val_loss: 13.9950\n",
      "Epoch 7/50\n",
      "5321/5321 [==============================] - 41s 8ms/step - loss: 13.3974 - val_loss: 13.2576\n",
      "Epoch 8/50\n",
      "5321/5321 [==============================] - 42s 8ms/step - loss: 13.3154 - val_loss: 12.9072\n",
      "Epoch 9/50\n",
      "5321/5321 [==============================] - 42s 8ms/step - loss: 13.2092 - val_loss: 13.4237\n",
      "Epoch 10/50\n",
      "5321/5321 [==============================] - 41s 8ms/step - loss: 13.1071 - val_loss: 13.4879\n",
      "Epoch 11/50\n",
      "5321/5321 [==============================] - 42s 8ms/step - loss: 13.0207 - val_loss: 12.8090\n",
      "Epoch 12/50\n",
      "5321/5321 [==============================] - 42s 8ms/step - loss: 12.9043 - val_loss: 12.5410\n",
      "Epoch 13/50\n",
      "5321/5321 [==============================] - 42s 8ms/step - loss: 12.8433 - val_loss: 12.4585\n",
      "Epoch 14/50\n",
      "5321/5321 [==============================] - 42s 8ms/step - loss: 12.7367 - val_loss: 12.5417\n",
      "Epoch 15/50\n",
      "5321/5321 [==============================] - 42s 8ms/step - loss: 12.6562 - val_loss: 12.4196\n",
      "Epoch 16/50\n",
      "5321/5321 [==============================] - 42s 8ms/step - loss: 12.5962 - val_loss: 12.4901\n",
      "Epoch 17/50\n",
      "5321/5321 [==============================] - 42s 8ms/step - loss: 12.4930 - val_loss: 13.3970\n",
      "Epoch 18/50\n",
      "5321/5321 [==============================] - 42s 8ms/step - loss: 12.4443 - val_loss: 12.5252\n",
      "Epoch 19/50\n",
      "5321/5321 [==============================] - 42s 8ms/step - loss: 12.3501 - val_loss: 12.6636\n",
      "Epoch 20/50\n",
      "5321/5321 [==============================] - 41s 8ms/step - loss: 12.2968 - val_loss: 12.1285\n",
      "Epoch 21/50\n",
      "5321/5321 [==============================] - 42s 8ms/step - loss: 12.2255 - val_loss: 12.0840\n",
      "Epoch 22/50\n",
      "5321/5321 [==============================] - 42s 8ms/step - loss: 12.1331 - val_loss: 11.8266\n",
      "Epoch 23/50\n",
      "5321/5321 [==============================] - 41s 8ms/step - loss: 12.0864 - val_loss: 12.3602\n",
      "Epoch 24/50\n",
      "5321/5321 [==============================] - 42s 8ms/step - loss: 12.0310 - val_loss: 12.0483\n",
      "Epoch 25/50\n",
      "5321/5321 [==============================] - 42s 8ms/step - loss: 11.9915 - val_loss: 11.7494\n",
      "Epoch 26/50\n",
      "5321/5321 [==============================] - 42s 8ms/step - loss: 11.8853 - val_loss: 12.1595\n",
      "Epoch 27/50\n",
      "5321/5321 [==============================] - 42s 8ms/step - loss: 11.8619 - val_loss: 11.6528\n",
      "Epoch 28/50\n",
      "5321/5321 [==============================] - 42s 8ms/step - loss: 11.8042 - val_loss: 11.9668\n",
      "Epoch 29/50\n",
      "5321/5321 [==============================] - 42s 8ms/step - loss: 11.7558 - val_loss: 11.5827\n",
      "Epoch 30/50\n",
      "5321/5321 [==============================] - 42s 8ms/step - loss: 11.6931 - val_loss: 11.3940\n",
      "Epoch 31/50\n",
      "5321/5321 [==============================] - 41s 8ms/step - loss: 11.6558 - val_loss: 11.7264\n",
      "Epoch 32/50\n",
      "5321/5321 [==============================] - 41s 8ms/step - loss: 11.6128 - val_loss: 11.6792\n",
      "Epoch 33/50\n",
      "5321/5321 [==============================] - 41s 8ms/step - loss: 11.5436 - val_loss: 11.4676\n",
      "Epoch 34/50\n",
      "5321/5321 [==============================] - 41s 8ms/step - loss: 11.4635 - val_loss: 11.5259\n",
      "Epoch 35/50\n",
      "5321/5321 [==============================] - 41s 8ms/step - loss: 11.4260 - val_loss: 11.5269\n",
      "Epoch 36/50\n",
      "5321/5321 [==============================] - 41s 8ms/step - loss: 11.3670 - val_loss: 11.1054\n",
      "Epoch 37/50\n",
      "5321/5321 [==============================] - 41s 8ms/step - loss: 11.3489 - val_loss: 11.2739\n",
      "Epoch 38/50\n",
      "5321/5321 [==============================] - 42s 8ms/step - loss: 11.3006 - val_loss: 11.3885\n",
      "Epoch 39/50\n",
      "5321/5321 [==============================] - 42s 8ms/step - loss: 11.2658 - val_loss: 12.4795\n",
      "Epoch 40/50\n",
      "5321/5321 [==============================] - 41s 8ms/step - loss: 11.2095 - val_loss: 11.0117\n",
      "Epoch 41/50\n",
      "5321/5321 [==============================] - 42s 8ms/step - loss: 11.2021 - val_loss: 11.1067\n",
      "Epoch 42/50\n",
      "5321/5321 [==============================] - 41s 8ms/step - loss: 11.1147 - val_loss: 10.9169\n",
      "Epoch 43/50\n",
      "5321/5321 [==============================] - 45s 8ms/step - loss: 11.1116 - val_loss: 11.0290\n",
      "Epoch 44/50\n",
      "5321/5321 [==============================] - 43s 8ms/step - loss: 11.0510 - val_loss: 10.7519\n",
      "Epoch 45/50\n",
      "5321/5321 [==============================] - 42s 8ms/step - loss: 11.0176 - val_loss: 10.8312\n",
      "Epoch 46/50\n",
      "5321/5321 [==============================] - 42s 8ms/step - loss: 10.9554 - val_loss: 10.7992\n",
      "Epoch 47/50\n",
      "5321/5321 [==============================] - 41s 8ms/step - loss: 10.9456 - val_loss: 10.8936\n",
      "Epoch 48/50\n",
      "5321/5321 [==============================] - 42s 8ms/step - loss: 10.8906 - val_loss: 10.6487\n",
      "Epoch 49/50\n",
      "5321/5321 [==============================] - 42s 8ms/step - loss: 10.8625 - val_loss: 10.7399\n",
      "Epoch 50/50\n",
      "5321/5321 [==============================] - 42s 8ms/step - loss: 10.7788 - val_loss: 11.1013\n"
     ]
    }
   ],
   "source": [
    "# Train the model\n",
    "history = model.fit(X_train_scaled, y_train, epochs=5, batch_size=10, validation_data=(X_test_scaled, y_test))"
   ]
  },
  {
   "cell_type": "code",
   "execution_count": 49,
   "metadata": {},
   "outputs": [
    {
     "data": {
      "text/plain": [
       "<Axes: >"
      ]
     },
     "execution_count": 49,
     "metadata": {},
     "output_type": "execute_result"
    },
    {
     "data": {
      "image/png": "[encoded data removed]",
      "text/plain": [
       "<Figure size 640x480 with 1 Axes>"
      ]
     },
     "metadata": {},
     "output_type": "display_data"
    }
   ],
   "source": [
    "model_losses = pd.DataFrame(model.history.history)\n",
    "model_losses.plot()"
   ]
  },
  {
   "cell_type": "code",
   "execution_count": 50,
   "metadata": {},
   "outputs": [
    {
     "data": {
      "text/plain": [
       "11.583850976015178"
      ]
     },
     "execution_count": 50,
     "metadata": {},
     "output_type": "execute_result"
    }
   ],
   "source": [
    "# Make predictions\n",
    "predictions = model.predict(X_test_scaled)\n",
    "\n",
    "from sklearn.metrics import mean_absolute_error,mean_squared_error\n",
    "mean_absolute_error(y_test,predictions)"
   ]
  },
  {
   "cell_type": "code",
   "execution_count": null,
   "metadata": {},
   "outputs": [],
   "source": [
    "import ipywidgets as widgets\n",
    "from IPython.display import display, clear_output\n",
    "\n",
    "import warnings\n",
    "warnings.filterwarnings(\"ignore\")\n",
    "\n",
    "venue = widgets.Dropdown(options=df['venue'].unique().tolist(),description='Select Venue:')\n",
    "batting_team = widgets.Dropdown(options =df['bat_team'].unique().tolist(),  description='Select Batting Team:')\n",
    "bowling_team = widgets.Dropdown(options=df['bowl_team'].unique().tolist(),  description='Select Batting Team:')\n",
    "striker = widgets.Dropdown(options=df['batsman'].unique().tolist(), description='Select Striker:')\n",
    "bowler = widgets.Dropdown(options=df['bowler'].unique().tolist(), description='Select Bowler:')\n",
    "\n",
    "predict_button = widgets.Button(description=\"Predict Score\")\n",
    "\n",
    "def predict_score(b):\n",
    "    with output:\n",
    "        clear_output()  # Clear the previous output\n",
    "        \n",
    "\n",
    "        # Decode the encoded values back to their original values\n",
    "        decoded_venue = venue_encoder.transform([venue.value])\n",
    "        decoded_batting_team = batting_team_encoder.transform([batting_team.value])\n",
    "        decoded_bowling_team = bowling_team_encoder.transform([bowling_team.value])\n",
    "        decoded_striker = striker_encoder.transform([striker.value])\n",
    "        decoded_bowler = bowler_encoder.transform([bowler.value])\n",
    "\n",
    "\n",
    "        input = np.array([decoded_venue,  decoded_batting_team, decoded_bowling_team,decoded_striker, decoded_bowler])\n",
    "        input = input.reshape(1,5)\n",
    "        input = scaler.transform(input)\n",
    "        #print(input)\n",
    "        predicted_score = model.predict(input)\n",
    "        predicted_score = int(predicted_score[0,0])\n",
    "\n",
    "        print(predicted_score)\n"
   ]
  },
  {
   "cell_type": "code",
   "execution_count": null,
   "metadata": {},
   "outputs": [],
   "source": [
    "predict_button.on_click(predict_score)\n",
    "output = widgets.Output()\n",
    "display(venue, batting_team, bowling_team, striker, bowler, predict_button, output)\n"
   ]
  },
  {
   "cell_type": "code",
   "execution_count": null,
   "metadata": {},
   "outputs": [],
   "source": [
    "model.save('ipl_score_predicter.h5')"
   ]
  },
  {
   "cell_type": "markdown",
   "metadata": {},
   "source": [
    "df['venue'].unique().tolist()\n",
    "df['bat_team'].unique().tolist()\n",
    "df['bowl_team'].unique().tolist()\n",
    "df['batsman'].unique().tolist()\n",
    "df['bowler'].unique().tolist()"
   ]
  },
  {
   "cell_type": "code",
   "execution_count": 52,
   "metadata": {},
   "outputs": [
    {
     "name": "stdout",
     "output_type": "stream",
     "text": [
      "Collecting ipywidgets\n",
      "  Downloading ipywidgets-8.1.3-py3-none-any.whl.metadata (2.4 kB)\n",
      "Requirement already satisfied: comm>=0.1.3 in c:\\users\\solan\\anaconda3\\envs\\tfgpu\\lib\\site-packages (from ipywidgets) (0.2.1)\n",
      "Requirement already satisfied: ipython>=6.1.0 in c:\\users\\solan\\anaconda3\\envs\\tfgpu\\lib\\site-packages (from ipywidgets) (8.15.0)\n",
      "Requirement already satisfied: traitlets>=4.3.1 in c:\\users\\solan\\anaconda3\\envs\\tfgpu\\lib\\site-packages (from ipywidgets) (5.14.3)\n",
      "Collecting widgetsnbextension~=4.0.11 (from ipywidgets)\n",
      "  Downloading widgetsnbextension-4.0.11-py3-none-any.whl.metadata (1.6 kB)\n",
      "Collecting jupyterlab-widgets~=3.0.11 (from ipywidgets)\n",
      "  Downloading jupyterlab_widgets-3.0.11-py3-none-any.whl.metadata (4.1 kB)\n",
      "Requirement already satisfied: backcall in c:\\users\\solan\\anaconda3\\envs\\tfgpu\\lib\\site-packages (from ipython>=6.1.0->ipywidgets) (0.2.0)\n",
      "Requirement already satisfied: decorator in c:\\users\\solan\\anaconda3\\envs\\tfgpu\\lib\\site-packages (from ipython>=6.1.0->ipywidgets) (5.1.1)\n",
      "Requirement already satisfied: jedi>=0.16 in c:\\users\\solan\\anaconda3\\envs\\tfgpu\\lib\\site-packages (from ipython>=6.1.0->ipywidgets) (0.18.1)\n",
      "Requirement already satisfied: matplotlib-inline in c:\\users\\solan\\anaconda3\\envs\\tfgpu\\lib\\site-packages (from ipython>=6.1.0->ipywidgets) (0.1.6)\n",
      "Requirement already satisfied: pickleshare in c:\\users\\solan\\anaconda3\\envs\\tfgpu\\lib\\site-packages (from ipython>=6.1.0->ipywidgets) (0.7.5)\n",
      "Requirement already satisfied: prompt-toolkit!=3.0.37,<3.1.0,>=3.0.30 in c:\\users\\solan\\anaconda3\\envs\\tfgpu\\lib\\site-packages (from ipython>=6.1.0->ipywidgets) (3.0.43)\n",
      "Requirement already satisfied: pygments>=2.4.0 in c:\\users\\solan\\anaconda3\\envs\\tfgpu\\lib\\site-packages (from ipython>=6.1.0->ipywidgets) (2.15.1)\n",
      "Requirement already satisfied: stack-data in c:\\users\\solan\\anaconda3\\envs\\tfgpu\\lib\\site-packages (from ipython>=6.1.0->ipywidgets) (0.2.0)\n",
      "Requirement already satisfied: typing-extensions in c:\\users\\solan\\anaconda3\\envs\\tfgpu\\lib\\site-packages (from ipython>=6.1.0->ipywidgets) (4.11.0)\n",
      "Requirement already satisfied: exceptiongroup in c:\\users\\solan\\anaconda3\\envs\\tfgpu\\lib\\site-packages (from ipython>=6.1.0->ipywidgets) (1.2.0)\n",
      "Requirement already satisfied: colorama in c:\\users\\solan\\anaconda3\\envs\\tfgpu\\lib\\site-packages (from ipython>=6.1.0->ipywidgets) (0.4.6)\n",
      "Requirement already satisfied: parso<0.9.0,>=0.8.0 in c:\\users\\solan\\anaconda3\\envs\\tfgpu\\lib\\site-packages (from jedi>=0.16->ipython>=6.1.0->ipywidgets) (0.8.3)\n",
      "Requirement already satisfied: wcwidth in c:\\users\\solan\\anaconda3\\envs\\tfgpu\\lib\\site-packages (from prompt-toolkit!=3.0.37,<3.1.0,>=3.0.30->ipython>=6.1.0->ipywidgets) (0.2.5)\n",
      "Requirement already satisfied: executing in c:\\users\\solan\\anaconda3\\envs\\tfgpu\\lib\\site-packages (from stack-data->ipython>=6.1.0->ipywidgets) (0.8.3)\n",
      "Requirement already satisfied: asttokens in c:\\users\\solan\\anaconda3\\envs\\tfgpu\\lib\\site-packages (from stack-data->ipython>=6.1.0->ipywidgets) (2.0.5)\n",
      "Requirement already satisfied: pure-eval in c:\\users\\solan\\anaconda3\\envs\\tfgpu\\lib\\site-packages (from stack-data->ipython>=6.1.0->ipywidgets) (0.2.2)\n",
      "Requirement already satisfied: six in c:\\users\\solan\\anaconda3\\envs\\tfgpu\\lib\\site-packages (from asttokens->stack-data->ipython>=6.1.0->ipywidgets) (1.16.0)\n",
      "Downloading ipywidgets-8.1.3-py3-none-any.whl (139 kB)\n",
      "   ---------------------------------------- 0.0/139.4 kB ? eta -:--:--\n",
      "   ----------- --------------------------- 41.0/139.4 kB 991.0 kB/s eta 0:00:01\n",
      "   ---------------------------------------- 139.4/139.4 kB 1.7 MB/s eta 0:00:00\n",
      "Downloading jupyterlab_widgets-3.0.11-py3-none-any.whl (214 kB)\n",
      "   ---------------------------------------- 0.0/214.4 kB ? eta -:--:--\n",
      "   -------------------------------------- - 204.8/214.4 kB 6.3 MB/s eta 0:00:01\n",
      "   ---------------------------------------- 214.4/214.4 kB 4.3 MB/s eta 0:00:00\n",
      "Downloading widgetsnbextension-4.0.11-py3-none-any.whl (2.3 MB)\n",
      "   ---------------------------------------- 0.0/2.3 MB ? eta -:--:--\n",
      "   ---- ----------------------------------- 0.3/2.3 MB 8.6 MB/s eta 0:00:01\n",
      "   ----------- ---------------------------- 0.7/2.3 MB 8.7 MB/s eta 0:00:01\n",
      "   --------------- ------------------------ 0.9/2.3 MB 7.4 MB/s eta 0:00:01\n",
      "   ---------------------- ----------------- 1.3/2.3 MB 7.7 MB/s eta 0:00:01\n",
      "   ---------------------------- ----------- 1.7/2.3 MB 8.2 MB/s eta 0:00:01\n",
      "   ------------------------------------ --- 2.1/2.3 MB 8.4 MB/s eta 0:00:01\n",
      "   ---------------------------------------  2.3/2.3 MB 8.5 MB/s eta 0:00:01\n",
      "   ---------------------------------------  2.3/2.3 MB 7.4 MB/s eta 0:00:01\n",
      "   ---------------------------------------- 2.3/2.3 MB 6.8 MB/s eta 0:00:00\n",
      "Installing collected packages: widgetsnbextension, jupyterlab-widgets, ipywidgets\n",
      "Successfully installed ipywidgets-8.1.3 jupyterlab-widgets-3.0.11 widgetsnbextension-4.0.11\n"
     ]
    }
   ],
   "source": [
    "!pip install ipywidgets"
   ]
  },
  {
   "cell_type": "code",
   "execution_count": 11,
   "metadata": {},
   "outputs": [
    {
     "data": {
      "text/plain": [
       "['Scaler.joblib']"
      ]
     },
     "execution_count": 11,
     "metadata": {},
     "output_type": "execute_result"
    }
   ],
   "source": [
    "import joblib\n",
    "joblib.dump(scaler,'Scaler.joblib')"
   ]
  },
  {
   "cell_type": "code",
   "execution_count": null,
   "metadata": {},
   "outputs": [],
   "source": []
  }
 ],
 "metadata": {
  "kernelspec": {
   "display_name": "tfgpu",
   "language": "python",
   "name": "python3"
  },
  "language_info": {
   "codemirror_mode": {
    "name": "ipython",
    "version": 3
   },
   "file_extension": ".py",
   "mimetype": "text/x-python",
   "name": "python",
   "nbconvert_exporter": "python",
   "pygments_lexer": "ipython3",
   "version": "3.9.18"
  }
 },
 "nbformat": 4,
 "nbformat_minor": 2
}
